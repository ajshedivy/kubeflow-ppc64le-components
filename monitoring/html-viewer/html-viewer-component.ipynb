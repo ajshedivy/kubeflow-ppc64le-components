{
 "cells": [
  {
   "cell_type": "code",
   "execution_count": 1,
   "metadata": {},
   "outputs": [],
   "source": [
    "from kfp.components import InputPath, OutputPath, create_component_from_func\n",
    "\n",
    "BASE_IMAGE = \"quay.io/ibm/kubeflow-notebook-image-ppc64le:latest\"\n",
    "\n",
    "def view_html(\n",
    "    html_path: InputPath('HTML'),\n",
    "    mlpipeline_ui_metadata_path: OutputPath(),\n",
    ") -> None:\n",
    "\n",
    "    import os\n",
    "    import json\n",
    "\n",
    "    html = os.path.abspath(html_path)\n",
    "    html_content = open(html, 'r').read()\n",
    "    \n",
    "    \n",
    "    metadata = {\n",
    "        'outputs' : [{\n",
    "        'type': 'web-app',\n",
    "        'storage': 'inline',\n",
    "        'source': html_content,\n",
    "        }, {\n",
    "        'type': 'web-app',\n",
    "        'storage': 'inline',\n",
    "        'source': '<h1>Hello, World!</h1>',\n",
    "        }]\n",
    "    }\n",
    "    \n",
    "    with open(mlpipeline_ui_metadata_path, 'w') as f:\n",
    "        json.dump(metadata, f)\n",
    "    \n",
    "    \n",
    "\n",
    "\n",
    "data_quality_report_op = create_component_from_func(\n",
    "    view_html,\n",
    "    output_component_file='component.yaml',\n",
    "    base_image=BASE_IMAGE,\n",
    "    annotations={\n",
    "        'author': 'Evidently AI'\n",
    "    }\n",
    ")  "
   ]
  },
  {
   "cell_type": "code",
   "execution_count": null,
   "metadata": {},
   "outputs": [],
   "source": []
  }
 ],
 "metadata": {
  "kernelspec": {
   "display_name": "kubeflow",
   "language": "python",
   "name": "python3"
  },
  "language_info": {
   "codemirror_mode": {
    "name": "ipython",
    "version": 3
   },
   "file_extension": ".py",
   "mimetype": "text/x-python",
   "name": "python",
   "nbconvert_exporter": "python",
   "pygments_lexer": "ipython3",
   "version": "3.10.8"
  },
  "orig_nbformat": 4,
  "vscode": {
   "interpreter": {
    "hash": "cfa3bc2375f864739603e288c05d4bfd658f5dbc82f0120480866d89037421e0"
   }
  }
 },
 "nbformat": 4,
 "nbformat_minor": 2
}
