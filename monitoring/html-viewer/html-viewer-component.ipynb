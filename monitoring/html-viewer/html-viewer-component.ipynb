{
 "cells": [
  {
   "cell_type": "code",
   "execution_count": 4,
   "metadata": {},
   "outputs": [
    {
     "name": "stdout",
     "output_type": "stream",
     "text": [
      "The lab_black extension is already loaded. To reload it, use:\n",
      "  %reload_ext lab_black\n"
     ]
    }
   ],
   "source": [
    "from kfp.components import InputPath, OutputPath, create_component_from_func\n",
    "\n",
    "%load_ext lab_black\n",
    "\n",
    "BASE_IMAGE = \"quay.io/ibm/kubeflow-notebook-image-ppc64le:latest\"\n",
    "\n",
    "\n",
    "def view_html(\n",
    "    html_path: InputPath(\"HTML\"),\n",
    "    mlpipeline_ui_metadata_path: OutputPath(),\n",
    ") -> None:\n",
    "    \"\"\"\n",
    "    Renders a given HTML file via the Kubeflow Metadata UI.\n",
    "\n",
    "    Args:\n",
    "        html_path (str): Path to the html file.\n",
    "        mlpipeline_ui_metadata_path (str): Path to the file where the metadata for the ML Pipeline UI will be saved.\n",
    "\n",
    "    Returns:\n",
    "        None: The function saves the metadata to disk.\n",
    "    \"\"\"\n",
    "\n",
    "    import json\n",
    "    import logging\n",
    "    import os\n",
    "    import sys\n",
    "\n",
    "    logging.info(\"Reading HTML file...\")\n",
    "    html = os.path.abspath(html_path)\n",
    "    html_content = open(html, \"r\").read()\n",
    "\n",
    "    logging.info(\"Writing HTML content to Metadata UI...\")\n",
    "    metadata = {\n",
    "        \"outputs\": [\n",
    "            {\n",
    "                \"type\": \"web-app\",\n",
    "                \"storage\": \"inline\",\n",
    "                \"source\": html_content,\n",
    "            }\n",
    "        ]\n",
    "    }\n",
    "    with open(mlpipeline_ui_metadata_path, \"w\") as f:\n",
    "        json.dump(metadata, f)\n",
    "\n",
    "    logging.info(\"Finished.\")\n",
    "\n",
    "\n",
    "data_quality_report_op = create_component_from_func(\n",
    "    view_html, output_component_file=\"component.yaml\", base_image=BASE_IMAGE\n",
    ")"
   ]
  },
  {
   "cell_type": "code",
   "execution_count": null,
   "metadata": {},
   "outputs": [],
   "source": []
  }
 ],
 "metadata": {
  "kernelspec": {
   "display_name": "Python 3 (ipykernel)",
   "language": "python",
   "name": "python3"
  },
  "language_info": {
   "codemirror_mode": {
    "name": "ipython",
    "version": 3
   },
   "file_extension": ".py",
   "mimetype": "text/x-python",
   "name": "python",
   "nbconvert_exporter": "python",
   "pygments_lexer": "ipython3",
   "version": "3.9.13"
  },
  "vscode": {
   "interpreter": {
    "hash": "cfa3bc2375f864739603e288c05d4bfd658f5dbc82f0120480866d89037421e0"
   }
  }
 },
 "nbformat": 4,
 "nbformat_minor": 4
}
