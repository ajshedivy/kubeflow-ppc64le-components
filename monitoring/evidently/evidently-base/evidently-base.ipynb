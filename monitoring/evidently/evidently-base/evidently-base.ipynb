{
 "cells": [
  {
   "cell_type": "code",
   "execution_count": 2,
   "metadata": {},
   "outputs": [],
   "source": [
    "from kfp.components import InputPath, OutputPath, create_component_from_func\n",
    "from typing import Dict, List, NamedTuple, Optional, Union, Any"
   ]
  },
  {
   "cell_type": "code",
   "execution_count": 9,
   "metadata": {},
   "outputs": [],
   "source": [
    "def run_evidently_report(\n",
    "    input_data: InputPath('CSV') | InputPath('JSON'),\n",
    "    output_path: OutputPath('HTML'),\n",
    "    metrics: List[str] = ['data_quality'],\n",
    "    cur_data: InputPath('CSV') | InputPath('JSON') = None,\n",
    "    column_mapping: Optional[Dict[str, str]] = None\n",
    ") -> None:\n",
    "    \n",
    "    import pandas as pd\n",
    "    from pathlib import Path\n",
    "    from evidently import ColumnMapping\n",
    "    from evidently.report import Report\n",
    "    from evidently.metric_preset import DataQualityPreset, DataDriftPreset, TargetDriftPreset ,RegressionPreset, ClassificationPreset\n",
    "    \n",
    "    PRESETS = {\n",
    "        'data_quality': DataQualityPreset,\n",
    "        'data_drift': DataDriftPreset,\n",
    "        'target_drift': TargetDriftPreset,\n",
    "        'regression': RegressionPreset,\n",
    "        'classification': ClassificationPreset\n",
    "    }\n",
    "    \n",
    "    try:\n",
    "        ref_data = pd.read_csv(input_data)\n",
    "    except Exception as e:\n",
    "        raise ValueError(f\"Error reading reference data: {e}\")\n",
    "    \n",
    "    try:\n",
    "        cur_data = pd.read_csv(cur_data)\n",
    "    except Exception as e:\n",
    "        cur_data=None\n",
    "        raise ValueError(f\"Error reading current data: {e}\")\n",
    "        \n",
    "    \n",
    "    report = Report(\n",
    "        metrics=[PRESETS[preset]() for preset in metrics]\n",
    "    )\n",
    "    \n",
    "    report.run(\n",
    "        reference_data=ref_data,\n",
    "        current_data=cur_data,\n",
    "        column_mapping=column_mapping\n",
    "    )\n",
    "    \n",
    "    Path(output_path).parent.mkdir(parents=True, exist_ok=True)\n",
    "    report.save_html(output_path)\n",
    "    \n",
    "    \n",
    "    def _try_load_data(data: Any) -> pd.DataFrame:\n",
    "        \n",
    "        try:\n",
    "            if isinstance(data, InputPath('CSV')):\n",
    "                return pd.read_csv(data)\n",
    "            else:\n",
    "                return pd.read_json(data)\n",
    "        except Exception as e:\n",
    "            raise ValueError('Data should be a path to a csv file or a json object')\n",
    "        \n",
    "        \n",
    "        \n",
    "        \n",
    "    \n",
    "    \n",
    "    \n",
    "    \n",
    "    "
   ]
  },
  {
   "cell_type": "code",
   "execution_count": null,
   "metadata": {},
   "outputs": [],
   "source": []
  }
 ],
 "metadata": {
  "kernelspec": {
   "display_name": "kubeflow",
   "language": "python",
   "name": "python3"
  },
  "language_info": {
   "codemirror_mode": {
    "name": "ipython",
    "version": 3
   },
   "file_extension": ".py",
   "mimetype": "text/x-python",
   "name": "python",
   "nbconvert_exporter": "python",
   "pygments_lexer": "ipython3",
   "version": "3.10.8"
  },
  "orig_nbformat": 4,
  "vscode": {
   "interpreter": {
    "hash": "cfa3bc2375f864739603e288c05d4bfd658f5dbc82f0120480866d89037421e0"
   }
  }
 },
 "nbformat": 4,
 "nbformat_minor": 2
}
