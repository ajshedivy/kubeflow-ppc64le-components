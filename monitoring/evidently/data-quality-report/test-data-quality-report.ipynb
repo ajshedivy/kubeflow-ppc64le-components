{
 "cells": [
  {
   "cell_type": "markdown",
   "metadata": {},
   "source": [
    "# Component Test: Create Data Quality Report\n",
    "\n",
    "## Authors\n",
    "- Adam Shedivy <Adam.Shedivy@ibm.com>\n",
    "- Sebastian Lehrig <sebastian.lehrig1@ibm.com>\n",
    "\n",
    "## License\n",
    "Apache-2.0 License"
   ]
  },
  {
   "cell_type": "code",
   "execution_count": 43,
   "metadata": {},
   "outputs": [
    {
     "name": "stdout",
     "output_type": "stream",
     "text": [
      "The lab_black extension is already loaded. To reload it, use:\n",
      "  %reload_ext lab_black\n"
     ]
    }
   ],
   "source": [
    "import kfp\n",
    "from kfp import components\n",
    "from kfp.components import create_component_from_func, InputPath, OutputPath\n",
    "import os\n",
    "from pathlib import Path\n",
    "\n",
    "%load_ext lab_black"
   ]
  },
  {
   "cell_type": "code",
   "execution_count": 45,
   "metadata": {},
   "outputs": [
    {
     "data": {
      "text/plain": [
       "'user-example-com'"
      ]
     },
     "execution_count": 45,
     "metadata": {},
     "output_type": "execute_result"
    }
   ],
   "source": [
    "BASE_IMAGE = \"quay.io/ibm/kubeflow-notebook-image-ppc64le:latest\"\n",
    "\n",
    "with open(\"/var/run/secrets/kubernetes.io/serviceaccount/namespace\") as f:\n",
    "    NAMESPACE = f.read()\n",
    "NAMESPACE"
   ]
  },
  {
   "cell_type": "markdown",
   "metadata": {},
   "source": [
    "## Component to be tested"
   ]
  },
  {
   "cell_type": "code",
   "execution_count": 52,
   "metadata": {},
   "outputs": [],
   "source": [
    "create_data_quality_report_comp = components.load_component_from_file(\"component.yaml\")"
   ]
  },
  {
   "cell_type": "markdown",
   "metadata": {},
   "source": [
    "### Test CSV data type"
   ]
  },
  {
   "cell_type": "code",
   "execution_count": 53,
   "metadata": {},
   "outputs": [],
   "source": [
    "chicago_taxi_dataset_comp = components.load_component_from_url(\n",
    "    \"https://raw.githubusercontent.com/kubeflow/pipelines/e3337b8bdcd63636934954e592d4b32c95b49129/components/datasets/Chicago%20Taxi/component.yaml\"\n",
    ")\n",
    "\n",
    "\n",
    "@kfp.dsl.pipeline(name=\"test-dq-pipeline-csv\")\n",
    "def test_pipeline():\n",
    "    training_data_csv = chicago_taxi_dataset_comp(\n",
    "        where='trip_start_timestamp >= \"2019-01-01\" AND trip_start_timestamp < \"2019-01-10\"',\n",
    "        select=\"tips,trip_seconds,trip_miles,pickup_community_area,dropoff_community_area,fare,tolls,extras,trip_total\",\n",
    "        limit=10000,\n",
    "    ).output\n",
    "\n",
    "    report = create_data_quality_report_comp(\n",
    "        dataset_dir=training_data_csv, dataset_type=\"csv\"\n",
    "    ).output"
   ]
  },
  {
   "cell_type": "code",
   "execution_count": 25,
   "metadata": {},
   "outputs": [
    {
     "data": {
      "text/html": [
       "<a href=\"/pipeline/#/experiments/details/6f189cc3-98f2-4594-bfb2-c9688a1ec5c3\" target=\"_blank\" >Experiment details</a>."
      ],
      "text/plain": [
       "<IPython.core.display.HTML object>"
      ]
     },
     "metadata": {},
     "output_type": "display_data"
    },
    {
     "data": {
      "text/html": [
       "<a href=\"/pipeline/#/runs/details/293406a7-adec-4ca8-b7e6-4ab5e899f292\" target=\"_blank\" >Run details</a>."
      ],
      "text/plain": [
       "<IPython.core.display.HTML object>"
      ]
     },
     "metadata": {},
     "output_type": "display_data"
    },
    {
     "data": {
      "text/plain": [
       "RunPipelineResult(run_id=293406a7-adec-4ca8-b7e6-4ab5e899f292)"
      ]
     },
     "execution_count": 25,
     "metadata": {},
     "output_type": "execute_result"
    }
   ],
   "source": [
    "kfp.Client().create_run_from_pipeline_func(\n",
    "    test_pipeline, arguments={}\n",
    ")"
   ]
  },
  {
   "cell_type": "markdown",
   "metadata": {},
   "source": [
    "### Test dataframe (pickle) data type"
   ]
  },
  {
   "cell_type": "code",
   "execution_count": 54,
   "metadata": {},
   "outputs": [],
   "source": [
    "def load_dataframe(output_dir: OutputPath(str)) -> None:\n",
    "\n",
    "    from sklearn import datasets\n",
    "    from pathlib import Path\n",
    "\n",
    "    iris_data = datasets.load_iris(as_frame=True)\n",
    "    Path(output_dir).parent.mkdir(parents=True, exist_ok=True)\n",
    "\n",
    "    iris_data.frame.to_pickle(output_dir)\n",
    "\n",
    "\n",
    "load_iris_data = create_component_from_func(\n",
    "    load_dataframe,\n",
    "    base_image=BASE_IMAGE,\n",
    ")\n",
    "\n",
    "\n",
    "@kfp.dsl.pipeline(name=\"test-dq-pipeline-dataframe\")\n",
    "def test_load_dataframe():\n",
    "    iris_data = load_iris_data().output\n",
    "\n",
    "    report = create_data_quality_report_comp(dataset_dir=iris_data)"
   ]
  },
  {
   "cell_type": "code",
   "execution_count": 42,
   "metadata": {},
   "outputs": [
    {
     "data": {
      "text/html": [
       "<a href=\"/pipeline/#/experiments/details/6f189cc3-98f2-4594-bfb2-c9688a1ec5c3\" target=\"_blank\" >Experiment details</a>."
      ],
      "text/plain": [
       "<IPython.core.display.HTML object>"
      ]
     },
     "metadata": {},
     "output_type": "display_data"
    },
    {
     "data": {
      "text/html": [
       "<a href=\"/pipeline/#/runs/details/1da92c62-cf1b-4726-b421-1e8c18d8f43a\" target=\"_blank\" >Run details</a>."
      ],
      "text/plain": [
       "<IPython.core.display.HTML object>"
      ]
     },
     "metadata": {},
     "output_type": "display_data"
    },
    {
     "data": {
      "text/plain": [
       "RunPipelineResult(run_id=1da92c62-cf1b-4726-b421-1e8c18d8f43a)"
      ]
     },
     "execution_count": 42,
     "metadata": {},
     "output_type": "execute_result"
    }
   ],
   "source": [
    "kfp.Client().create_run_from_pipeline_func(test_load_dataframe, arguments={})"
   ]
  },
  {
   "cell_type": "markdown",
   "metadata": {},
   "source": [
    "### Test Huggingface datasets data type"
   ]
  },
  {
   "cell_type": "code",
   "execution_count": 70,
   "metadata": {},
   "outputs": [],
   "source": [
    "load_huggingface_dataset_comp = components.load_component_from_file(\n",
    "    f\"{os.getenv('HOME')}/components/data-collection/load-huggingface-dataset/component.yaml\"\n",
    ")\n",
    "\n",
    "\n",
    "@kfp.dsl.pipeline(name=\"test-dq-pipeline-huggingface\")\n",
    "def test_load_huggingface():\n",
    "    huggingface_dataset = load_huggingface_dataset_comp(\n",
    "        path=\"glue\", configuration=\"mrpc\", split=\"train\"\n",
    "    ).outputs[\"dataset_dir\"]\n",
    "\n",
    "    report = create_data_quality_report_comp(\n",
    "        dataset_dir=huggingface_dataset,\n",
    "        dataset_type=\"huggingface\",\n",
    "    )"
   ]
  },
  {
   "cell_type": "code",
   "execution_count": 71,
   "metadata": {},
   "outputs": [
    {
     "data": {
      "text/html": [
       "<a href=\"/pipeline/#/experiments/details/6f189cc3-98f2-4594-bfb2-c9688a1ec5c3\" target=\"_blank\" >Experiment details</a>."
      ],
      "text/plain": [
       "<IPython.core.display.HTML object>"
      ]
     },
     "metadata": {},
     "output_type": "display_data"
    },
    {
     "data": {
      "text/html": [
       "<a href=\"/pipeline/#/runs/details/53390494-a92c-496f-ac59-088f10bf4d04\" target=\"_blank\" >Run details</a>."
      ],
      "text/plain": [
       "<IPython.core.display.HTML object>"
      ]
     },
     "metadata": {},
     "output_type": "display_data"
    },
    {
     "data": {
      "text/plain": [
       "RunPipelineResult(run_id=53390494-a92c-496f-ac59-088f10bf4d04)"
      ]
     },
     "execution_count": 71,
     "metadata": {},
     "output_type": "execute_result"
    }
   ],
   "source": [
    "kfp.Client().create_run_from_pipeline_func(test_load_huggingface, arguments={})"
   ]
  },
  {
   "cell_type": "code",
   "execution_count": null,
   "metadata": {},
   "outputs": [],
   "source": []
  }
 ],
 "metadata": {
  "kernelspec": {
   "display_name": "Python 3 (ipykernel)",
   "language": "python",
   "name": "python3"
  },
  "language_info": {
   "codemirror_mode": {
    "name": "ipython",
    "version": 3
   },
   "file_extension": ".py",
   "mimetype": "text/x-python",
   "name": "python",
   "nbconvert_exporter": "python",
   "pygments_lexer": "ipython3",
   "version": "3.9.13"
  },
  "vscode": {
   "interpreter": {
    "hash": "cfa3bc2375f864739603e288c05d4bfd658f5dbc82f0120480866d89037421e0"
   }
  }
 },
 "nbformat": 4,
 "nbformat_minor": 4
}
