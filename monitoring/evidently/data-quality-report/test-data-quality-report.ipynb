{
 "cells": [
  {
   "cell_type": "code",
   "execution_count": 1,
   "metadata": {},
   "outputs": [],
   "source": [
    "import kfp\n",
    "from kfp import components\n",
    "import os"
   ]
  },
  {
   "cell_type": "code",
   "execution_count": 3,
   "metadata": {},
   "outputs": [],
   "source": [
    "DATA_QUALITY = os.path.abspath(\"\")\n",
    "EVIDENTLY    = os.path.dirname(DATA_QUALITY)\n",
    "HTML_VIWER   = os.path.join(EVIDENTLY, 'html-viewer')\n",
    "\n",
    "BASE_IMAGE = \"quay.io/ibm/kubeflow-notebook-image-ppc64le:latest\"\n",
    "# KFP_CLIENT = kfp.Client()\n",
    "\n",
    "\n",
    "# with open(\"/var/run/secrets/kubernetes.io/serviceaccount/namespace\") as f:\n",
    "#     NAMESPACE = f.read()\n",
    "# NAMESPACE"
   ]
  },
  {
   "cell_type": "code",
   "execution_count": null,
   "metadata": {},
   "outputs": [],
   "source": [
    "chicago_taxi_dataset_op = components.load_component_from_url('https://raw.githubusercontent.com/kubeflow/pipelines/e3337b8bdcd63636934954e592d4b32c95b49129/components/datasets/Chicago%20Taxi/component.yaml')\n",
    "data_quality_op         = components.load_component_from_file(os.path.join(DATA_QUALITY, 'component.yaml'))\n",
    "html_viewer_op          = components.load_component_from_file(os.path.join(HTML_VIWER, 'component.yaml'))\n"
   ]
  },
  {
   "cell_type": "code",
   "execution_count": 13,
   "metadata": {},
   "outputs": [],
   "source": [
    "@kfp.dsl.pipeline(name='test-pipeline')\n",
    "def test_pipeline():\n",
    "    training_data_csv = chicago_taxi_dataset_op(\n",
    "        where='trip_start_timestamp >= \"2019-01-01\" AND trip_start_timestamp < \"2019-02-01\"',\n",
    "        select='tips,trip_seconds,trip_miles,pickup_community_area,dropoff_community_area,fare,tolls,extras,trip_total',\n",
    "        limit=10000,\n",
    "    ).output\n",
    "    \n",
    "    report = data_quality_op(\n",
    "        cur=training_data_csv\n",
    "    ).output\n",
    "    \n",
    "    html_viewer_op(\n",
    "        html=report\n",
    "    )\n"
   ]
  },
  {
   "cell_type": "code",
   "execution_count": null,
   "metadata": {},
   "outputs": [],
   "source": [
    "kfp.Client().create_run_from_pipeline_func(\n",
    "    test_pipeline, arguments={}\n",
    ")"
   ]
  }
 ],
 "metadata": {
  "kernelspec": {
   "display_name": "kubeflow",
   "language": "python",
   "name": "python3"
  },
  "language_info": {
   "codemirror_mode": {
    "name": "ipython",
    "version": 3
   },
   "file_extension": ".py",
   "mimetype": "text/x-python",
   "name": "python",
   "nbconvert_exporter": "python",
   "pygments_lexer": "ipython3",
   "version": "3.10.8"
  },
  "orig_nbformat": 4,
  "vscode": {
   "interpreter": {
    "hash": "cfa3bc2375f864739603e288c05d4bfd658f5dbc82f0120480866d89037421e0"
   }
  }
 },
 "nbformat": 4,
 "nbformat_minor": 2
}
