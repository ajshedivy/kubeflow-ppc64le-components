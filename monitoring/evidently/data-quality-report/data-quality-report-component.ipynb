{
 "cells": [
  {
   "cell_type": "code",
   "execution_count": 3,
   "metadata": {},
   "outputs": [],
   "source": [
    "from kfp.components import create_component_from_func, InputPath, OutputPath"
   ]
  },
  {
   "cell_type": "code",
   "execution_count": 4,
   "metadata": {},
   "outputs": [],
   "source": [
    "BASE_IMAGE = \"quay.io/ibm/kubeflow-notebook-image-ppc64le:latest\"\n",
    "\n",
    "def data_quality_report(\n",
    "    cur_path: InputPath('CSV'),\n",
    "    output_path: OutputPath('HTML'),\n",
    ") -> None:\n",
    "\n",
    "    import pandas as pd\n",
    "    from evidently.metric_preset import DataQualityPreset\n",
    "    from evidently.report import Report\n",
    "    from pathlib import Path\n",
    "    \n",
    "    df = pd.read_csv(cur_path)\n",
    "\n",
    "    report = Report(metrics=[\n",
    "        DataQualityPreset()\n",
    "    ])\n",
    "    \n",
    "    report.run(current_data=df, reference_data=None, column_mapping=None)\n",
    "    \n",
    "    Path(output_path).parent.mkdir(parents=True, exist_ok=True)\n",
    "    report.save_html(output_path)\n",
    "    \n",
    "data_quality_report_op = create_component_from_func(\n",
    "    data_quality_report,\n",
    "    output_component_file='component.yaml',\n",
    "    base_image=BASE_IMAGE,\n",
    "    packages_to_install=[\n",
    "        'evidently==0.2.0',\n",
    "    ],\n",
    "    annotations={\n",
    "        'author': 'Evidently AI'\n",
    "    }\n",
    ")  "
   ]
  },
  {
   "cell_type": "code",
   "execution_count": null,
   "metadata": {},
   "outputs": [],
   "source": []
  }
 ],
 "metadata": {
  "kernelspec": {
   "display_name": "kubeflow",
   "language": "python",
   "name": "python3"
  },
  "language_info": {
   "codemirror_mode": {
    "name": "ipython",
    "version": 3
   },
   "file_extension": ".py",
   "mimetype": "text/x-python",
   "name": "python",
   "nbconvert_exporter": "python",
   "pygments_lexer": "ipython3",
   "version": "3.10.8"
  },
  "orig_nbformat": 4,
  "vscode": {
   "interpreter": {
    "hash": "cfa3bc2375f864739603e288c05d4bfd658f5dbc82f0120480866d89037421e0"
   }
  }
 },
 "nbformat": 4,
 "nbformat_minor": 2
}
