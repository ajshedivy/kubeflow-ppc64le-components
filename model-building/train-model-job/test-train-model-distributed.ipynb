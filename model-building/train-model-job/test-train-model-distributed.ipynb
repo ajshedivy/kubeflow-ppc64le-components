{
 "cells": [
  {
   "cell_type": "markdown",
   "id": "changing-medication",
   "metadata": {},
   "source": [
    "# Component Test: Train Model Distributed\n",
    "\n",
    "## Author\n",
    "- Sebastian Lehrig <sebastian.lehrig1@ibm.com>\n",
    "\n",
    "## License\n",
    "Apache-2.0 License"
   ]
  },
  {
   "cell_type": "markdown",
   "id": "automotive-think",
   "metadata": {},
   "source": [
    "## Imports & Constants"
   ]
  },
  {
   "cell_type": "code",
   "execution_count": 30,
   "id": "f8472735-d399-41fc-bdae-e9116de11b17",
   "metadata": {},
   "outputs": [
    {
     "name": "stdout",
     "output_type": "stream",
     "text": [
      "The lab_black extension is already loaded. To reload it, use:\n",
      "  %reload_ext lab_black\n"
     ]
    }
   ],
   "source": [
    "import kfp\n",
    "import kfp.dsl as dsl\n",
    "\n",
    "%load_ext lab_black"
   ]
  },
  {
   "cell_type": "code",
   "execution_count": 31,
   "id": "pacific-writing",
   "metadata": {},
   "outputs": [
    {
     "data": {
      "text/plain": [
       "'user-example-com'"
      ]
     },
     "execution_count": 31,
     "metadata": {},
     "output_type": "execute_result"
    }
   ],
   "source": [
    "BASE_IMAGE = \"quay.io/ibm/kubeflow-notebook-image-ppc64le:latest\"\n",
    "KFP_CLIENT = kfp.Client()\n",
    "\n",
    "with open(\"/var/run/secrets/kubernetes.io/serviceaccount/namespace\") as f:\n",
    "    NAMESPACE = f.read()\n",
    "NAMESPACE"
   ]
  },
  {
   "cell_type": "markdown",
   "id": "6d45803c-fe7d-4e03-9e96-138850458d35",
   "metadata": {},
   "source": [
    "## Specify training\n",
    "\n",
    "References:\n",
    "- https://horovod.readthedocs.io/en/stable/keras.html\n",
    "- https://github.com/horovod/horovod/blob/master/examples/tensorflow2/tensorflow2_keras_mnist.py"
   ]
  },
  {
   "cell_type": "code",
   "execution_count": 53,
   "id": "ad1bfabd-1ee3-4340-897b-09a94efad660",
   "metadata": {},
   "outputs": [],
   "source": [
    "def train_model():\n",
    "    import tensorflow as tf\n",
    "    import horovod.tensorflow.keras as hvd\n",
    "    import os\n",
    "    import time\n",
    "\n",
    "    seconds = 10\n",
    "    print(f\"Sleeping {seconds} seconds...\")\n",
    "    time.sleep(seconds)\n",
    "    print(\"Continuing...\")\n",
    "\n",
    "    # ptxas fix\n",
    "    # TODO Remove cudatoolkit-dev install once part of base image\n",
    "    import subprocess\n",
    "\n",
    "    subprocess.run([\"mamba\", \"install\", \"cudatoolkit-dev\", \"--yes\", \"--quiet\"])\n",
    "\n",
    "    # Horovod: initialize Horovod.\n",
    "    os.environ[\"NCCL_DEBUG\"] = \"INFO\"\n",
    "    hvd.init()\n",
    "\n",
    "    # Horovod: pin GPU to be used to process local rank (one GPU per process)\n",
    "    gpus = tf.config.experimental.list_physical_devices(\"GPU\")\n",
    "    for gpu in gpus:\n",
    "        tf.config.experimental.set_memory_growth(gpu, True)\n",
    "    if gpus:\n",
    "        tf.config.experimental.set_visible_devices(gpus[hvd.local_rank()], \"GPU\")\n",
    "\n",
    "    (mnist_images, mnist_labels), _ = tf.keras.datasets.mnist.load_data(\n",
    "        path=\"mnist-%d.npz\" % hvd.rank()\n",
    "    )\n",
    "\n",
    "    dataset = tf.data.Dataset.from_tensor_slices(\n",
    "        (\n",
    "            tf.cast(mnist_images[..., tf.newaxis] / 255.0, tf.float32),\n",
    "            tf.cast(mnist_labels, tf.int64),\n",
    "        )\n",
    "    )\n",
    "    dataset = dataset.repeat().shuffle(10000).batch(128)\n",
    "\n",
    "    mnist_model = tf.keras.Sequential(\n",
    "        [\n",
    "            tf.keras.layers.Conv2D(32, [3, 3], activation=\"relu\"),\n",
    "            tf.keras.layers.Conv2D(64, [3, 3], activation=\"relu\"),\n",
    "            tf.keras.layers.MaxPooling2D(pool_size=(2, 2)),\n",
    "            tf.keras.layers.Dropout(0.25),\n",
    "            tf.keras.layers.Flatten(),\n",
    "            tf.keras.layers.Dense(128, activation=\"relu\"),\n",
    "            tf.keras.layers.Dropout(0.5),\n",
    "            tf.keras.layers.Dense(10, activation=\"softmax\"),\n",
    "        ]\n",
    "    )\n",
    "\n",
    "    # Horovod: adjust learning rate based on number of GPUs.\n",
    "    scaled_lr = 0.001 * hvd.size()\n",
    "    opt = tf.optimizers.Adam(scaled_lr)\n",
    "\n",
    "    # Horovod: add Horovod DistributedOptimizer.\n",
    "    opt = hvd.DistributedOptimizer(\n",
    "        opt, backward_passes_per_step=1, average_aggregated_gradients=True\n",
    "    )\n",
    "\n",
    "    # Horovod: Specify `experimental_run_tf_function=False` to ensure TensorFlow\n",
    "    # uses hvd.DistributedOptimizer() to compute gradients.\n",
    "    mnist_model.compile(\n",
    "        loss=tf.losses.SparseCategoricalCrossentropy(),\n",
    "        optimizer=opt,\n",
    "        metrics=[\"accuracy\"],\n",
    "        experimental_run_tf_function=False,\n",
    "    )\n",
    "\n",
    "    callbacks = [\n",
    "        # Horovod: broadcast initial variable states from rank 0 to all other processes.\n",
    "        # This is necessary to ensure consistent initialization of all workers when\n",
    "        # training is started with random weights or restored from a checkpoint.\n",
    "        hvd.callbacks.BroadcastGlobalVariablesCallback(0),\n",
    "        # Horovod: average metrics among workers at the end of every epoch.\n",
    "        #\n",
    "        # Note: This callback must be in the list before the ReduceLROnPlateau,\n",
    "        # TensorBoard or other metrics-based callbacks.\n",
    "        hvd.callbacks.MetricAverageCallback(),\n",
    "        # Horovod: using `lr = 1.0 * hvd.size()` from the very beginning leads to worse final\n",
    "        # accuracy. Scale the learning rate `lr = 1.0` ---> `lr = 1.0 * hvd.size()` during\n",
    "        # the first three epochs. See https://arxiv.org/abs/1706.02677 for details.\n",
    "        hvd.callbacks.LearningRateWarmupCallback(\n",
    "            initial_lr=scaled_lr, warmup_epochs=3, verbose=1\n",
    "        ),\n",
    "    ]\n",
    "\n",
    "    # Horovod: save checkpoints only on worker 0 to prevent other workers from corrupting them.\n",
    "    if hvd.rank() == 0:\n",
    "        callbacks.append(tf.keras.callbacks.ModelCheckpoint(\"./checkpoint-{epoch}.h5\"))\n",
    "\n",
    "    # Horovod: write logs on worker 0.\n",
    "    verbose = 1 if hvd.rank() == 0 else 0\n",
    "\n",
    "    # Train the model.\n",
    "    # Horovod: adjust number of steps based on number of GPUs.\n",
    "    mnist_model.fit(\n",
    "        dataset,\n",
    "        steps_per_epoch=500 // hvd.size(),\n",
    "        callbacks=callbacks,\n",
    "        epochs=24,\n",
    "        verbose=verbose,\n",
    "    )\n",
    "\n",
    "\n",
    "train_specification = kfp.components.func_to_component_text(func=train_model)"
   ]
  },
  {
   "cell_type": "code",
   "execution_count": 47,
   "id": "840fecc8-afb1-46e6-ba35-547f0ede9d5d",
   "metadata": {
    "tags": []
   },
   "outputs": [],
   "source": [
    "train_comp = kfp.components.load_component_from_file(\"component.yaml\")"
   ]
  },
  {
   "cell_type": "markdown",
   "id": "nutritional-suicide",
   "metadata": {},
   "source": [
    "## Create pipeline\n",
    "\n",
    "TODO: Fix this issue when setting `worker = 2` (`ncclCommInitRank failed: unhandled cuda error`)"
   ]
  },
  {
   "cell_type": "code",
   "execution_count": 52,
   "id": "material-morning",
   "metadata": {},
   "outputs": [],
   "source": [
    "@dsl.pipeline(\n",
    "    name=\"Component Test - Train Model Distributed\",\n",
    "    description=\"A simple component test\",\n",
    ")\n",
    "def train_pipeline():\n",
    "    worker = 1\n",
    "    gpus = 1\n",
    "\n",
    "    mpi_specification = {\n",
    "        \"distribution_type\": \"MPI\",\n",
    "        \"number_of_workers\": worker,\n",
    "        \"worker_cpus\": \"8\",\n",
    "        \"worker_memory\": \"32Gi\",\n",
    "        \"launcher_cpus\": \"2\",\n",
    "        \"launcher_memory\": \"2Gi\",\n",
    "    }\n",
    "\n",
    "    train_comp(\n",
    "        train_dataset_dir=\"/tmp\",\n",
    "        validation_dataset_dir=\"/tmp\",\n",
    "        train_specification=train_specification,\n",
    "        train_parameters={},\n",
    "        gpus=gpus,\n",
    "        distribution_specification=mpi_specification,\n",
    "    ).set_display_name(f\"Distributed MPIJob - {worker} worker x {gpus} GPUs\")"
   ]
  },
  {
   "cell_type": "markdown",
   "id": "e8a3bec0-144a-49d4-9c92-af5b84442231",
   "metadata": {},
   "source": [
    "## Run the pipeline within an experiment"
   ]
  },
  {
   "cell_type": "code",
   "execution_count": 51,
   "id": "8a2cf14a-9d24-4919-ab2c-f93f99b5340d",
   "metadata": {},
   "outputs": [
    {
     "data": {
      "text/html": [
       "<a href=\"/pipeline/#/experiments/details/6f189cc3-98f2-4594-bfb2-c9688a1ec5c3\" target=\"_blank\" >Experiment details</a>."
      ],
      "text/plain": [
       "<IPython.core.display.HTML object>"
      ]
     },
     "metadata": {},
     "output_type": "display_data"
    },
    {
     "data": {
      "text/html": [
       "<a href=\"/pipeline/#/runs/details/acadd34e-04ce-467f-b032-90147d1d5e63\" target=\"_blank\" >Run details</a>."
      ],
      "text/plain": [
       "<IPython.core.display.HTML object>"
      ]
     },
     "metadata": {},
     "output_type": "display_data"
    },
    {
     "data": {
      "text/plain": [
       "RunPipelineResult(run_id=acadd34e-04ce-467f-b032-90147d1d5e63)"
      ]
     },
     "execution_count": 51,
     "metadata": {},
     "output_type": "execute_result"
    }
   ],
   "source": [
    "KFP_CLIENT.create_run_from_pipeline_func(\n",
    "    train_pipeline, arguments={}, namespace=NAMESPACE\n",
    ")"
   ]
  },
  {
   "cell_type": "code",
   "execution_count": null,
   "id": "23b37da4-7e18-4d3e-a17a-8ea3b288c8f0",
   "metadata": {},
   "outputs": [],
   "source": []
  }
 ],
 "metadata": {
  "kernelspec": {
   "display_name": "Python 3 (ipykernel)",
   "language": "python",
   "name": "python3"
  },
  "language_info": {
   "codemirror_mode": {
    "name": "ipython",
    "version": 3
   },
   "file_extension": ".py",
   "mimetype": "text/x-python",
   "name": "python",
   "nbconvert_exporter": "python",
   "pygments_lexer": "ipython3",
   "version": "3.9.13"
  }
 },
 "nbformat": 4,
 "nbformat_minor": 5
}
