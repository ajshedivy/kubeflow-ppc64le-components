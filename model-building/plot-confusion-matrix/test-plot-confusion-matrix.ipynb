{
 "cells": [
  {
   "cell_type": "markdown",
   "id": "changing-medication",
   "metadata": {},
   "source": [
    "# Component Test: Plot Confusion Matrix\n",
    "\n",
    "## Author\n",
    "- Sebastian Lehrig <sebastian.lehrig1@ibm.com>\n",
    "\n",
    "## License\n",
    "Apache-2.0 License"
   ]
  },
  {
   "cell_type": "markdown",
   "id": "automotive-think",
   "metadata": {},
   "source": [
    "## Imports & Constants"
   ]
  },
  {
   "cell_type": "code",
   "execution_count": null,
   "id": "f8472735-d399-41fc-bdae-e9116de11b17",
   "metadata": {},
   "outputs": [],
   "source": [
    "import kfp\n",
    "from kfp.components import InputPath, OutputPath\n",
    "import kfp.dsl as dsl\n",
    "import os\n",
    "\n",
    "%load_ext lab_black"
   ]
  },
  {
   "cell_type": "code",
   "execution_count": null,
   "id": "pacific-writing",
   "metadata": {},
   "outputs": [],
   "source": [
    "BASE_IMAGE = \"quay.io/ibm/kubeflow-notebook-image-ppc64le:latest\"\n",
    "\n",
    "KFP_CLIENT = kfp.Client()\n",
    "\n",
    "with open(\"/var/run/secrets/kubernetes.io/serviceaccount/namespace\") as f:\n",
    "    NAMESPACE = f.read()\n",
    "NAMESPACE"
   ]
  },
  {
   "cell_type": "markdown",
   "id": "6d45803c-fe7d-4e03-9e96-138850458d35",
   "metadata": {},
   "source": [
    "## Component to be tested"
   ]
  },
  {
   "cell_type": "code",
   "execution_count": null,
   "id": "840fecc8-afb1-46e6-ba35-547f0ede9d5d",
   "metadata": {
    "tags": []
   },
   "outputs": [],
   "source": [
    "plot_confusion_matrix_comp = kfp.components.load_component_from_file(\"component.yaml\")"
   ]
  },
  {
   "cell_type": "markdown",
   "id": "703b840d-69fb-4dad-9dbc-cb9d3f77aa7c",
   "metadata": {},
   "source": [
    "## Test Data Generators"
   ]
  },
  {
   "cell_type": "code",
   "execution_count": null,
   "id": "7d76ccd6-7d58-4781-b5ef-322c7feaf48f",
   "metadata": {},
   "outputs": [],
   "source": [
    "def generate_test_dataset(dataset_dir: OutputPath(str)):\n",
    "    from datasets import Dataset\n",
    "    import os\n",
    "\n",
    "    data = {\n",
    "        \"feature1\": [[1, 2, 3, 4, 5], [2, 3, 4, 5, 6], [3, 4, 5, 6, 7]],\n",
    "        \"feature2\": [True, False, True],\n",
    "        \"label1\": [1, 0, 2],\n",
    "        \"label2\": [True, False, True],\n",
    "    }\n",
    "\n",
    "    dataset = Dataset.from_dict(data)\n",
    "\n",
    "    dataset = dataset.train_test_split(test_size=0.3)\n",
    "\n",
    "    if not os.path.exists(dataset_dir):\n",
    "        os.makedirs(dataset_dir)\n",
    "    dataset.save_to_disk(dataset_dir)\n",
    "\n",
    "\n",
    "generate_test_dataset_comp = kfp.components.create_component_from_func(\n",
    "    func=generate_test_dataset, base_image=BASE_IMAGE\n",
    ")"
   ]
  },
  {
   "cell_type": "code",
   "execution_count": null,
   "id": "4fbf2f56-e16d-4fe4-ac6f-9f7e1bca9fda",
   "metadata": {},
   "outputs": [],
   "source": [
    "def generate_test_model(dataset_dir: InputPath(str), model_dir: OutputPath(str)):\n",
    "    from datasets import load_from_disk\n",
    "    import os\n",
    "    from tensorflow.keras.models import Model\n",
    "    from tensorflow.keras.layers import Concatenate, Dense, Input\n",
    "    from transformers import DefaultDataCollator\n",
    "\n",
    "    dataset = load_from_disk(dataset_dir)\n",
    "    print(dataset[\"train\"])\n",
    "\n",
    "    data_collator = DefaultDataCollator(return_tensors=\"tf\")\n",
    "    train_dataset = dataset[\"train\"].to_tf_dataset(\n",
    "        columns=[\"feature1\", \"feature2\"],\n",
    "        label_cols=[\"label1\", \"label2\"],\n",
    "        shuffle=True,\n",
    "        batch_size=32,\n",
    "        collate_fn=data_collator,\n",
    "    )\n",
    "\n",
    "    input1 = Input(shape=(5,), name=\"feature1\")\n",
    "    input2 = Input(shape=(1,), name=\"feature2\")\n",
    "    input = Concatenate()([input1, input2])\n",
    "    dense1 = Dense(units=32, activation=\"tanh\", kernel_initializer=\"random_normal\")(\n",
    "        input\n",
    "    )\n",
    "    output1 = Dense(units=1, kernel_initializer=\"random_normal\", name=\"label1\")(dense1)\n",
    "    output2 = Dense(units=1, kernel_initializer=\"random_normal\", name=\"label2\")(dense1)\n",
    "\n",
    "    model = Model(inputs=[input1, input2], outputs=[output1, output2])\n",
    "\n",
    "    model.compile(loss=\"mse\", optimizer=\"sgd\", metrics=[\"accuracy\"])\n",
    "\n",
    "    model.fit(train_dataset, epochs=10, batch_size=32)\n",
    "\n",
    "    if not os.path.exists(model_dir):\n",
    "        os.makedirs(model_dir)\n",
    "    model.save(model_dir)\n",
    "\n",
    "\n",
    "generate_test_model_comp = kfp.components.create_component_from_func(\n",
    "    func=generate_test_model, base_image=BASE_IMAGE\n",
    ")"
   ]
  },
  {
   "cell_type": "markdown",
   "id": "nutritional-suicide",
   "metadata": {},
   "source": [
    "## Create pipeline"
   ]
  },
  {
   "cell_type": "code",
   "execution_count": null,
   "id": "material-morning",
   "metadata": {},
   "outputs": [],
   "source": [
    "@dsl.pipeline(\n",
    "    name=\"Component Test - Plot Confusion Matrix\", description=\"A simple component test\"\n",
    ")\n",
    "def train_pipeline():\n",
    "    generate_test_dataset_task = generate_test_dataset_comp()\n",
    "\n",
    "    generate_test_model_task = generate_test_model_comp(\n",
    "        generate_test_dataset_task.outputs[\"dataset_dir\"]\n",
    "    )\n",
    "\n",
    "    plot_confusion_matrix_comp(\n",
    "        input_columns=[\"feature1\", \"feature2\"],\n",
    "        label_columns={\n",
    "            \"label1\": [\"Label 1A\", \"Label 1B\", \"Label 1C\"],\n",
    "            \"label2\": [\"Label 2A\", \"Label 2B\"],\n",
    "        },\n",
    "        prep_dataset_dir=generate_test_dataset_task.outputs[\"dataset_dir\"],\n",
    "        model_dir=generate_test_model_task.outputs[\"model_dir\"],\n",
    "    )"
   ]
  },
  {
   "cell_type": "markdown",
   "id": "e8a3bec0-144a-49d4-9c92-af5b84442231",
   "metadata": {},
   "source": [
    "## Run the pipeline within an experiment"
   ]
  },
  {
   "cell_type": "code",
   "execution_count": null,
   "id": "8a2cf14a-9d24-4919-ab2c-f93f99b5340d",
   "metadata": {},
   "outputs": [],
   "source": [
    "KFP_CLIENT.create_run_from_pipeline_func(\n",
    "    train_pipeline,\n",
    "    arguments={},\n",
    "    namespace=NAMESPACE\n",
    ")"
   ]
  },
  {
   "cell_type": "code",
   "execution_count": null,
   "id": "0ef8091a-2fb1-47f5-93d2-9a879e5f0377",
   "metadata": {},
   "outputs": [],
   "source": []
  }
 ],
 "metadata": {
  "kernelspec": {
   "display_name": "Python 3 (ipykernel)",
   "language": "python",
   "name": "python3"
  },
  "language_info": {
   "codemirror_mode": {
    "name": "ipython",
    "version": 3
   },
   "file_extension": ".py",
   "mimetype": "text/x-python",
   "name": "python",
   "nbconvert_exporter": "python",
   "pygments_lexer": "ipython3",
   "version": "3.9.13"
  }
 },
 "nbformat": 4,
 "nbformat_minor": 5
}
